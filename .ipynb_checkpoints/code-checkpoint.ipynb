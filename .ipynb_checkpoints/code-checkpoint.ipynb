{
 "cells": [
  {
   "cell_type": "code",
   "execution_count": 145,
   "id": "cde223f4",
   "metadata": {},
   "outputs": [
    {
     "name": "stdout",
     "output_type": "stream",
     "text": [
      "['0', '0', '0', '0', '0', '0', '0', '0']\n",
      "['0', '0', '0', '0', '0', '0', '0', '0']\n",
      "['1', '0', '0', '0', '0', '0', '1', '0']\n",
      "['0', '1', '0', '0', '0', '1', '0', '0']\n",
      "['0', '0', '1', '0', '1', '0', '0', '0']\n",
      "['0', '0', '0', '1', '0', '0', '0', '0']\n",
      "['0', '0', '0', '0', '0', '0', '0', '0']\n",
      "['0', '0', '0', '0', '0', '0', '0', '0']\n"
     ]
    },
    {
     "data": {
      "text/plain": [
       "'The Emotion Detected is Happy'"
      ]
     },
     "execution_count": 145,
     "metadata": {},
     "output_type": "execute_result"
    }
   ],
   "source": [
    "import collections\n",
    "\n",
    "with open(\"m1_input.txt\", \"r\") as file:\n",
    "        grid = file.read()\n",
    "\n",
    "# Split the grid_string into rows\n",
    "rows = grid.split('\\n')\n",
    "\n",
    "# Split each row into individual elements and create a 2D list\n",
    "grid = [list(row) for row in rows]\n",
    "\n",
    "# Print the 2D array\n",
    "for row in grid:\n",
    "    print(row)\n",
    "\n",
    "def emotion(grid: list[list[str]]) -> int:\n",
    "    if not grid:\n",
    "        return \"No Emotion Found\"\n",
    "    \n",
    "    rows, cols = len(grid), len(grid[0])\n",
    "    visit=set()\n",
    "    Emotion = ['Happy','Sad','Neutral']\n",
    "    count = 0\n",
    "    sad_count = 0\n",
    "    happy_count = 0\n",
    "    neutral_count = 0\n",
    "\n",
    "    def bfs(r,c):\n",
    "        q = collections.deque()\n",
    "        nonlocal sad_count, happy_count, neutral_count, count\n",
    "        visit.add((r,c))\n",
    "        q.append((r,c))\n",
    "\n",
    "        while q and count<=3:\n",
    "            row, col = q.popleft()\n",
    "            directions = [[-1,-1], [-1,1], [1,1], [1,-1],[0,1]]\n",
    "            for dr, dc in directions :\n",
    "                r, c = row + dr, col + dc\n",
    "                \n",
    "                if(r in range(rows) and\n",
    "                c in range(cols) and\n",
    "                 grid[r][c] == \"1\" and\n",
    "                (r,c) not in visit):\n",
    "                    q.append((r,c))\n",
    "                    visit.add((r,c))\n",
    "                    if(r<row or r==row): \n",
    "                        sad_count = sad_count+1\n",
    "                        count = count+1\n",
    "                    if(r>row or r==row):\n",
    "                        happy_count= happy_count+1\n",
    "                        count = count +1\n",
    "                    if(r==row):\n",
    "                        neutral_count = neutral_count +1\n",
    "                        count = count +1    \n",
    "                    \n",
    "    for c in range(cols):\n",
    "        for r in range(rows):\n",
    "            if grid[r][c] == \"1\" and(r,c) not in visit:\n",
    "                bfs(r,c)\n",
    "\n",
    "                \n",
    "    emoti = max(sad_count,happy_count,neutral_count)\n",
    "\n",
    "    if neutral_count==emoti:\n",
    "        return \"The Emotion Detected is \"+Emotion[2]\n",
    "    elif sad_count==emoti:\n",
    "        return \"The Emotion Detected is \"+Emotion[1]\n",
    "    elif happy_count==emoti:\n",
    "        return \"The Emotion Detected is \"+Emotion[0]\n",
    "\n",
    "    \n",
    "emotion(grid)"
   ]
  },
  {
   "cell_type": "code",
   "execution_count": 103,
   "id": "4038ebf1",
   "metadata": {},
   "outputs": [
    {
     "ename": "TypeError",
     "evalue": "'list' object cannot be interpreted as an integer",
     "output_type": "error",
     "traceback": [
      "\u001b[0;31m---------------------------------------------------------------------------\u001b[0m",
      "\u001b[0;31mTypeError\u001b[0m                                 Traceback (most recent call last)",
      "Cell \u001b[0;32mIn[103], line 1\u001b[0m\n\u001b[0;32m----> 1\u001b[0m \u001b[38;5;28mprint\u001b[39m(\u001b[38;5;28mrange\u001b[39m(row))\n",
      "\u001b[0;31mTypeError\u001b[0m: 'list' object cannot be interpreted as an integer"
     ]
    }
   ],
   "source": [
    "print(range(row))"
   ]
  },
  {
   "cell_type": "code",
   "execution_count": null,
   "id": "ffcd24d6",
   "metadata": {},
   "outputs": [],
   "source": []
  }
 ],
 "metadata": {
  "kernelspec": {
   "display_name": "Python 3 (ipykernel)",
   "language": "python",
   "name": "python3"
  },
  "language_info": {
   "codemirror_mode": {
    "name": "ipython",
    "version": 3
   },
   "file_extension": ".py",
   "mimetype": "text/x-python",
   "name": "python",
   "nbconvert_exporter": "python",
   "pygments_lexer": "ipython3",
   "version": "3.11.5"
  }
 },
 "nbformat": 4,
 "nbformat_minor": 5
}
